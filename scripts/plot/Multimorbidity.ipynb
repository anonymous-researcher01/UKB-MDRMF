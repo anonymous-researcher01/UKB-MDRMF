{
 "cells": [
  {
   "cell_type": "code",
   "execution_count": 1,
   "metadata": {},
   "outputs": [],
   "source": [
    "import sys\n",
    "import torch\n",
    "import torch.nn as nn\n",
    "import numpy as np\n",
    "import matplotlib.pyplot as plt\n",
    "from sklearn.manifold import TSNE\n",
    "import random\n",
    "from matplotlib.colors import LinearSegmentedColormap\n",
    "# from matplotlib import colormaps\n",
    "import matplotlib.gridspec as gridspec\n",
    "import pandas as pd\n",
    "from config import predpath, survpath, phedefpath, phecodespath, phecatpath, trainpath, temppath, outputpath\n",
    "sys.path.append(trainpath)\n",
    "# import survutil\n"
   ]
  },
  {
   "cell_type": "code",
   "execution_count": null,
   "metadata": {},
   "outputs": [],
   "source": [
    "model = torch.load(\"../../results/weights/pred/610_3model\", map_location=torch.device('cpu'))\n",
    "corrprediction=model.outlayer.weight.data.to('cpu').numpy()\n",
    "model_surv = torch.load(\"../../results/weights/surv/610_0model\", map_location=torch.device('cpu'))\n",
    "corrsurvival=model_surv.outlayer.weight.cpu().detach().numpy()"
   ]
  },
  {
   "cell_type": "code",
   "execution_count": null,
   "metadata": {},
   "outputs": [],
   "source": [
    "random.seed(0)\n",
    "np.random.seed(0)\n",
    "X = corrprediction\n",
    "tsne = TSNE()\n",
    "X_tsne_prediction = tsne.fit_transform(X)"
   ]
  },
  {
   "cell_type": "code",
   "execution_count": 31,
   "metadata": {},
   "outputs": [],
   "source": [
    "phecode_col = pd.read_csv(\"../../data/phecode.csv\")\n",
    "phecat = np.load(phecatpath, allow_pickle=True)[0]"
   ]
  },
  {
   "cell_type": "code",
   "execution_count": 14,
   "metadata": {},
   "outputs": [],
   "source": [
    "# Convert dictionary to two-column DataFrame\n",
    "rows = []\n",
    "for category, indices in phecat.items():\n",
    "    for index in indices:\n",
    "        rows.append([index, category])\n",
    "\n",
    "df = pd.DataFrame(rows, columns=[\"Row_Number\", \"Category\"])\n",
    "\n",
    "# Save DataFrame to CSV\n",
    "output_path = \"./results/cache/multimorbidity/phecat_rows_and_categories.csv\"\n",
    "df.to_csv(output_path, index=False)"
   ]
  },
  {
   "cell_type": "code",
   "execution_count": 32,
   "metadata": {},
   "outputs": [],
   "source": [
    "# Save\n",
    "phecode_col = phecode_col[\"Phecode\"].astype(str).reset_index(drop=True)\n",
    "\n",
    "# Convert to DataFrame with updated column names\n",
    "corrprediction_df = pd.DataFrame(corrprediction, index=phecode_col)\n",
    "corrsurvival_df = pd.DataFrame(corrsurvival, index=phecode_col)\n",
    "X_tsne_prediction_df = pd.DataFrame(X_tsne_prediction, columns=[\"TSNE_1\", \"TSNE_2\"], index=phecode_col)\n",
    "\n",
    "# Save as CSV\n",
    "corrprediction_df.to_csv(\"./results/cache/multimorbidity/multimorbidity.csv\", index_label=\"Phecode\")\n",
    "corrsurvival_df.to_csv(\"./results/cache/multimorbidity/multimorbidity_surv.csv\", index_label=\"Phecode\")\n",
    "X_tsne_prediction_df.to_csv(\"./results/cache/multimorbidity/X_tsne_prediction.csv\", index_label=\"Phecode\")"
   ]
  }
 ],
 "metadata": {
  "kernelspec": {
   "display_name": "base",
   "language": "python",
   "name": "python3"
  },
  "language_info": {
   "codemirror_mode": {
    "name": "ipython",
    "version": 3
   },
   "file_extension": ".py",
   "mimetype": "text/x-python",
   "name": "python",
   "nbconvert_exporter": "python",
   "pygments_lexer": "ipython3",
   "version": "3.8.8"
  }
 },
 "nbformat": 4,
 "nbformat_minor": 2
}
